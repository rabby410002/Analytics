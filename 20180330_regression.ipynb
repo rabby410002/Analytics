{
 "cells": [
  {
   "cell_type": "code",
   "execution_count": 2,
   "metadata": {
    "collapsed": true
   },
   "outputs": [],
   "source": [
    "# -*- coding: utf-8 -*-\n",
    "import csv as csv \n",
    "import numpy as np\n",
    "# Import the random forest package\n",
    "from sklearn.ensemble import RandomForestRegressor\n",
    "from sklearn.linear_model import LinearRegression\n",
    "import  numpy as np\n",
    "import itertools as it\n",
    "\n",
    "#from sklearn.datasets import load_iris\n",
    "#from sklearn.model_selection  import cross_val_score\n",
    "#from sklearn.tree import DecisionTreeClassifier"
   ]
  },
  {
   "cell_type": "code",
   "execution_count": 496,
   "metadata": {
    "collapsed": false
   },
   "outputs": [],
   "source": [
    "# Query Data\n",
    "#金屬光唇膏+M.A.C\n",
    "X1=[-2444.56,-2313.56,-2228.56,-2121.56,-1960.56,-1837.56,-1767.56,-1737.56,-1657.56,-1627.56,-1507.56,-1427.56,-1387.56,-777.56,-387.56,-57.56,402.44,322.44,1852.44,2462.44,1182.44,1662.44,2942.44,4382.44,10032.44]\n",
    "#蜜糖磨砂潤唇膏+迪奧+or+Dior\n",
    "X2=[-288.64,-296.64,-296.64,-326.64,-313.64,-314.64,-287.64,-284.64,-274.64,-291.64,-287.64,-152.64,-117.64,-207.64,-231.64,-204.64,138.36,218.36,267.36,304.36,112.36,197.36,384.36,1077.36,1477.36]\n",
    "#奢華緞面玩色唇釉+聖羅蘭+or+YSL\n",
    "X3=[-107.76,-129.76,-136.76,-150.76,-148.76,-136.76,-112.76,-116.76,-89.76,-97.76,-103.76,-10.76,-17.76,-56.76,-56.76,-56.76,-41.76,5.24,31.24,76.24,28.24,12.24,63.24,586.24,769.24]\n",
    "\n",
    "#直達高潮腮紅+NARS\n",
    "X4=[-41.08,-39.08,-37.08,-39.08,-12.08,-2.08,-37.08,-37.08,-42.08,-37.08,-37.08,-10.08,39.92,61.92,19.92,-8.08,14.92,-36.08,-37.08,-11.08,8.92,38.92,57.92,98.92,121.92]\n",
    "#水足感極效膠原+高保濕凝霜+ETUDE HOUSE\n",
    "X5=[-142.56,-128.56,-99.56,-43.56,-59.56,-89.56,-62.56,-64.56,-74.56,-101.56,-99.56,36.44,100.44,24.44,18.44,-24.56,-28.56,20.44,12.44,-4.56,-30.56,-56.56,-25.56,404.44,519.44]\n",
    "#絕對上癮柔霧保濕唇膏+珂莉奧+or+CLIO\n",
    "X6=[-25.88,-23.88,-24.88,-21.88,-26.88,-21.88,-26.88,-24.88,-24.88,-26.88,-18.88,-21.88,-24.88,-19.88,-22.88,-23.88,-19.88,-22.88,2.12,23.12,34.12,64.12,96.12,109.12,95.12]\n",
    "\n",
    "#天生美肌蜜粉餅+M.A.C\n",
    "X7=[-195,-189,-173,-177,-168,-153,-139,-143,-124,-79,-87,-92,-74,-70,-41,-67,-52,-37,325,545,303,125,131,222,409]\n",
    "#愛天使+神聖星辰眼影+ETUDE HOUSE\n",
    "X8=[-7.56,-5.56,-2.56,-6.56,-4.56,-5.56,-1.56,-8.56,-6.56,-5.56,-6.56,1.44,-2.56,28.44,34.44,0.44,17.44,1.44,-5.56,-1.56,-2.56,-3.56,-0.56,-3.56,-2.56]\n",
    "\n",
    "#深層卸妝油+DHC\n",
    "X9=[-1551.36,-1493.36,-1439.36,-1429.36,-1389.36,-1159.36,-1069.36,-1069.36,-1099.36,-1229.36,-939.36,390.64,540.64,-189.36,-59.36,30.64,200.64,50.64,2340.64,3210.64,1350.64,1370.64,1140.64,1130.64,2360.64]\n",
    "\n",
    "#mono eyes 眼影+Aritaum\n",
    "X10=[-150.28,-146.28,-135.28,-111.28,-110.28,-100.28,-83.28,-94.28,-118.28,-87.28,-78.28,-94.28,-63.28,20.72,70.72,38.72,33.72,94.72,153.72,168.72,133.72,117.72,58.72,130.72,350.72]\n",
    "\n",
    "#礦物控油蜜粉+innisfree\n",
    "X11=[-629.92,-622.92,-535.92,-443.92,-410.92,-425.92,-453.92,-436.92,-453.92,-413.92,-278.92,11.08,127.08,128.08,30.08,-110.92,-47.92,51.08,654.08,1024.08,784.08,544.08,414.08,554.08,944.08]\n",
    "\n",
    "#冰河醣蛋白保濕霜+契爾氏+or+KIEHLS\n",
    "X12=[-254.8,-245.8,-238.8,-197.8,-205.8,-206.8,-146.8,-141.8,-180.8,-187.8,-143.8,-73.8,-106.8,-107.8,47.2,26.2,20.2,98.2,212.2,247.2,195.2,292.2,316.2,369.2,615.2]\n",
    "\n",
    "#情挑誘光水唇膏+聖羅蘭+or+YSL\n",
    "X13=[-310.56,-336.56,-346.56,-341.56,-289.56,-262.56,-251.56,-177.56,-79.56,-106.56,-197.56,-122.56,-106.56,-37.56,-11.56,-96.56,-38.56,68.44,452.44,589.44,437.44,338.44,172.44,315.44,739.44]\n",
    "\n",
    "#蜂巢氣墊+珂莉奧+or+CLIO\n",
    "X14=[-21.52,-20.52,-18.52,-21.52,-21.52,-18.52,-19.52,-17.52,-19.52,-18.52,-15.52,-14.52,20.48,-11.52,-12.52,-16.52,-11.52,13.48,28.48,36.48,19.48,-14.52,-14.52,71.48,118.48]\n",
    "\n",
    "#單色眼影+ETUDE HOUSE\n",
    "X15=[-2857.6,-2772.6,-2562.6,-2512.6,-2232.6,-1922.6,-1842.6,-1842.6,-1892.6,-1702.6,-1352.6,237.4,647.4,-112.6,7.4,197.4,697.4,627.4,2747.4,3567.4,1857.4,1457.4,1657.4,3397.4,6507.4]\n",
    "\n",
    "##\n"
   ]
  },
  {
   "cell_type": "code",
   "execution_count": 513,
   "metadata": {
    "collapsed": false
   },
   "outputs": [
    {
     "name": "stdout",
     "output_type": "stream",
     "text": [
      "[0, 0, 0, 0, 0, 0, 0, 13, 23, 18, 12, 4, 13, 13]\n"
     ]
    }
   ],
   "source": [
    "# Query powderoom Data\n",
    "\n",
    "import pymysql\n",
    "\n",
    "conn = pymysql.connect(host='140.96.83.145', user='peihsuan', passwd='iscae100', db='gsearch', charset='utf8')\n",
    "curGet = conn.cursor()\n",
    "\n",
    "curGet.execute(\"SELECT numresult FROM gsearch.powderroom_ts where prod_id=8539672 and begindate>='2016-04-24' order by begindate;\")\n",
    "dataGet=[]\n",
    "for readline in curGet:\n",
    "    dataGet.append(readline[0])\n",
    "print(dataGet)"
   ]
  },
  {
   "cell_type": "code",
   "execution_count": 514,
   "metadata": {
    "collapsed": false
   },
   "outputs": [],
   "source": [
    "\n",
    "def moving_window(x, length, step=1):\n",
    "    streams = it.tee(x, length)\n",
    "    return zip(*[it.islice(stream, i, None, step) for stream, i in zip(streams, it.count(step=step))])\n",
    "\n",
    "window_size = 5  # sliding windows的長度\n",
    "\n",
    "#make training data of google by sliding window\n",
    "#從1016/4/24開始取\n",
    "x_google=list(moving_window(X14[11:], window_size))\n",
    "x_google=np.asarray(x_google)\n",
    "#print(x_google)\n",
    "\n",
    "# make training data of powder by sliding window\n",
    "x_powder=list(moving_window(dataGet, window_size-1))\n",
    "x_powder=np.asarray(x_powder)\n",
    "\n",
    "'''# 各別對自己normalize\n",
    "#normalize  \n",
    "n=x_powder.min()\n",
    "x=x_powder.max()\n",
    "x_powder=2*(x_powder-n)/(x-n)-1\n",
    "\n",
    "\n",
    "n=x_google.min()\n",
    "x=x_google.max()\n",
    "x_google=2*(x_google-n)/(x-n)-1\n",
    "'''\n",
    "\n",
    "''' # 各別對整個google,整個powdser做normalize (-1,1)\n",
    "n=0\n",
    "x=496\n",
    "x_powder=2*(x_powder-n)/(x-n)-1\n",
    "\n",
    "\n",
    "n=-2858\n",
    "x=10033\n",
    "x_google=2*(x_google-n)/(x-n)-1\n",
    "'''\n",
    "''' # 各別對整個google,整個powdser做normalize (0,1)\n",
    "min_=0\n",
    "max_=496\n",
    "x_powder=(x_powder-min_)/(max_-min_)\n",
    "\n",
    "\n",
    "min_=-1552\n",
    "max_=3210\n",
    "x_google=(x_google-min_)/(max_-min_)\n",
    "'''\n",
    "# 各別對整個google,整個powdser做normalize (1,100)\n",
    "min_=0\n",
    "max_=496\n",
    "x_powder=(100-1)*((x_powder-min_)/(max_-min_))+1\n",
    "\n",
    "\n",
    "min_=-1552\n",
    "max_=3210\n",
    "x_google=(100-1)*(x_google-min_)/(max_-min_)+1"
   ]
  },
  {
   "cell_type": "code",
   "execution_count": 522,
   "metadata": {
    "collapsed": false
   },
   "outputs": [
    {
     "name": "stdout",
     "output_type": "stream",
     "text": [
      "[29.211465770684587, 29.33620327593448, 29.668836623267534, 29.58567828643427, 29.772784544309115, 30.084628307433853, 30.37568248635027, 30.29252414951701, 30.68752624947501, 31.623057538849224, 31.456740865182695, 31.352792944141118, 31.7270054598908, 31.810163796724066, 32.41306173876522, 31.872532549349014, 32.18437631247375, 32.49622007559849, 40.02204955900882, 44.5957580848383, 39.56467870642587, 35.864132717345655, 35.98887022259555, 37.88072238555229, 41.76837463250735]\n",
      "[2, 5, 0, 3, 3, 2, 3, 1, 3, 10, 1, 5, 7, 7]\n",
      "[1.3991935483870968, 1.997983870967742, 1.0, 1.598790322580645, 1.598790322580645, 1.3991935483870968, 1.598790322580645, 1.1995967741935485, 1.598790322580645, 2.995967741935484, 1.1995967741935485, 1.997983870967742, 2.397177419354839, 2.397177419354839]\n"
     ]
    }
   ],
   "source": [
    "\n",
    "# x_google\n",
    "min_=-1552\n",
    "max_=3210\n",
    "print([(100-1)*(x-min_)/(max_-min_)+1 for x in X7])\n",
    "#powder\n",
    "min_=0\n",
    "max_=496\n",
    "\n",
    "curGet.execute(\"SELECT numresult FROM gsearch.powderroom_ts where prod_id=27817 and begindate>='2016-04-24' order by begindate;\")\n",
    "dataGet=[]\n",
    "for readline in curGet:\n",
    "    dataGet.append(readline[0])\n",
    "print(dataGet)\n",
    "print([(100-1)*(x-min_)/(max_-min_)+1 for x in dataGet])"
   ]
  },
  {
   "cell_type": "code",
   "execution_count": 523,
   "metadata": {
    "collapsed": false
   },
   "outputs": [
    {
     "data": {
      "text/plain": [
       "0"
      ]
     },
     "execution_count": 523,
     "metadata": {},
     "output_type": "execute_result"
    }
   ],
   "source": [
    "min_"
   ]
  },
  {
   "cell_type": "code",
   "execution_count": 507,
   "metadata": {
    "collapsed": false
   },
   "outputs": [
    {
     "data": {
      "text/plain": [
       "array([[ 32.96356993,  33.69120538,  33.02593868,  33.0051491 ,\n",
       "         32.92199076],\n",
       "       [ 33.69120538,  33.02593868,  33.0051491 ,  32.92199076,\n",
       "         33.02593868],\n",
       "       [ 33.02593868,  33.0051491 ,  32.92199076,  33.02593868,\n",
       "         33.54567829],\n",
       "       [ 33.0051491 ,  32.92199076,  33.02593868,  33.54567829,\n",
       "         33.85752205],\n",
       "       [ 32.92199076,  33.02593868,  33.54567829,  33.85752205,\n",
       "         34.02383872],\n",
       "       [ 33.02593868,  33.54567829,  33.85752205,  34.02383872,\n",
       "         33.67041579],\n",
       "       [ 33.54567829,  33.85752205,  34.02383872,  33.67041579,\n",
       "         32.96356993],\n",
       "       [ 33.85752205,  34.02383872,  33.67041579,  32.96356993,\n",
       "         32.96356993],\n",
       "       [ 34.02383872,  33.67041579,  32.96356993,  32.96356993,\n",
       "         34.75147417],\n",
       "       [ 33.67041579,  32.96356993,  32.96356993,  34.75147417,\n",
       "         35.72858463]])"
      ]
     },
     "execution_count": 507,
     "metadata": {},
     "output_type": "execute_result"
    }
   ],
   "source": [
    "x_google"
   ]
  },
  {
   "cell_type": "code",
   "execution_count": 508,
   "metadata": {
    "collapsed": false
   },
   "outputs": [],
   "source": [
    "try: \n",
    "    del comb_data\n",
    "except NameError:\n",
    "    pass\n",
    "for i,j in zip(x_google,x_powder):\n",
    "    #print(np.concatenate((j,i)))\n",
    "    try:\n",
    "      \n",
    "        comb_data = np.concatenate(([comb_data], [np.concatenate((j,i))])) \n",
    "    except ValueError:\n",
    "        comb_data = np.concatenate((comb_data, [np.concatenate((j,i))])) \n",
    "    except NameError :#first bombine\n",
    "        #print('first bombine')\n",
    "        comb_data=np.concatenate((j,i))\n",
    "        "
   ]
  },
  {
   "cell_type": "code",
   "execution_count": 509,
   "metadata": {
    "collapsed": false
   },
   "outputs": [
    {
     "name": "stdout",
     "output_type": "stream",
     "text": [
      "google predict: [ 38.17159965]\n",
      "combine data: [ 38.3636814]\n"
     ]
    },
    {
     "name": "stderr",
     "output_type": "stream",
     "text": [
      "D:\\Anaconda\\envs\\py3\\lib\\site-packages\\sklearn\\utils\\validation.py:395: DeprecationWarning: Passing 1d arrays as data is deprecated in 0.17 and will raise ValueError in 0.19. Reshape your data either using X.reshape(-1, 1) if your data has a single feature or X.reshape(1, -1) if it contains a single sample.\n",
      "  DeprecationWarning)\n",
      "D:\\Anaconda\\envs\\py3\\lib\\site-packages\\sklearn\\utils\\validation.py:395: DeprecationWarning: Passing 1d arrays as data is deprecated in 0.17 and will raise ValueError in 0.19. Reshape your data either using X.reshape(-1, 1) if your data has a single feature or X.reshape(1, -1) if it contains a single sample.\n",
      "  DeprecationWarning)\n"
     ]
    }
   ],
   "source": [
    "# Linear\n",
    "for i in range(0,2):\n",
    "    if i==0:\n",
    "        '''use google as training data'''\n",
    "\n",
    "        train_x=x_google[:-1,:-1]\n",
    "        train_y=x_google[:-1,-1]\n",
    "        test_x=x_google[-1,:-1]\n",
    "  \n",
    "        \n",
    "        model = LinearRegression(fit_intercept=True, normalize=False, copy_X=True, n_jobs=1)\n",
    "\n",
    "        # Fit the training data to the training output and create the decision\n",
    "        # trees\n",
    "        model = model.fit(train_x, train_y)\n",
    "\n",
    "        # Take the same decision trees and run on the test data\n",
    "        #output = forest.predict(train_feature[:,0:-1])\n",
    "        #output = model.predict(test_feature) #multi-model\n",
    "\n",
    "        output = model.predict(test_x)\n",
    "        print('google predict:',output)\n",
    "        \n",
    "\n",
    "        \n",
    "    if i==1:\n",
    "\n",
    "        \n",
    "        train_x=comb_data[:-1,:-1]\n",
    "        train_y=comb_data[:-1,-1]\n",
    "        test_x=comb_data[-1,:-1]\n",
    "\n",
    "\n",
    "        model2 = LinearRegression(fit_intercept=True, normalize=False, copy_X=True, n_jobs=1)\n",
    "\n",
    "        # Fit the training data to the training output and create the decision\n",
    "        # trees\n",
    "        model2 = model2.fit(train_x, train_y)\n",
    "\n",
    "        # Take the same decision trees and run on the test data\n",
    "        #output = forest.predict(train_feature[:,0:-1])\n",
    "        #output = model.predict(test_feature) #multi-model\n",
    "\n",
    "        output2 = model2.predict(test_x)\n",
    "        print('combine data:',output2)\n",
    "        \n",
    "        \n",
    "    \n",
    "    \n",
    "    \n"
   ]
  },
  {
   "cell_type": "code",
   "execution_count": 472,
   "metadata": {
    "collapsed": false
   },
   "outputs": [
    {
     "data": {
      "text/plain": [
       "'\\n#Query data - 只用一個model\\na = np.array([X1[:-1],X2[:-1],X3[:-1],X4[:-1],X5[:-1],X6[:-1],X7[:-1],X8[:-1],X9[:-1],X10[:-1],X11[:-1],X12[:-1],X13[:-1],X14[:-1],X15[:-1]])\\n#x = a.flatten()\\n'"
      ]
     },
     "execution_count": 472,
     "metadata": {},
     "output_type": "execute_result"
    }
   ],
   "source": [
    "'''\n",
    "#Query data - 只用一個model\n",
    "a = np.array([X1[:-1],X2[:-1],X3[:-1],X4[:-1],X5[:-1],X6[:-1],X7[:-1],X8[:-1],X9[:-1],X10[:-1],X11[:-1],X12[:-1],X13[:-1],X14[:-1],X15[:-1]])\n",
    "#x = a.flatten()\n",
    "'''"
   ]
  },
  {
   "cell_type": "code",
   "execution_count": 332,
   "metadata": {
    "collapsed": false,
    "scrolled": true
   },
   "outputs": [],
   "source": [
    "#make train and test data for one model\n",
    "'''\n",
    "\n",
    "def moving_window(x, length, step=1):\n",
    "    streams = it.tee(x, length)\n",
    "    return zip(*[it.islice(stream, i, None, step) for stream, i in zip(streams, it.count(step=step))])\n",
    "\n",
    "\n",
    "X_list=['X1','X2','X3','X4','X5','X6','X7','X8','X9','X10','X11','X12','X13','X14','X15']\n",
    "Train_data=[]\n",
    "Test_data=[]\n",
    "for i in range(0,len(X_list)):\n",
    "    x=eval((X_list[i]))\n",
    "    x_=list(moving_window(x, 5))\n",
    "    x_=np.asarray(x_)\n",
    "    if (X_list[i])=='X1':\n",
    "        #print(x_)\n",
    "        Train_data=x_[:-1,:]\n",
    "        Test_data.append(list(x_[-1,:]))\n",
    "        #print('train:',Train_data,'test:',Test_data)\n",
    "    else:\n",
    "\n",
    "        Train_data=np.concatenate((Train_data, x_[:-1,:]), axis=0)\n",
    "        #Test_data=np.concatenate([Test_data, x_[-1,:]])  #numpy.concatenate([a,b])\n",
    "        Test_data.append(list(x_[-1,:]))\n",
    "'''"
   ]
  },
  {
   "cell_type": "code",
   "execution_count": 187,
   "metadata": {
    "collapsed": false
   },
   "outputs": [],
   "source": [
    "#make training data for multi-model\n",
    "'''\n",
    "train_feature=x_[:-1,:-1]\n",
    "train_y=x_[:-1,-1]\n",
    "test_feature=x_[-1,:-1]\n",
    "'''"
   ]
  },
  {
   "cell_type": "code",
   "execution_count": 334,
   "metadata": {
    "collapsed": false,
    "scrolled": true
   },
   "outputs": [
    {
     "name": "stderr",
     "output_type": "stream",
     "text": [
      "D:\\Anaconda\\envs\\py3\\lib\\site-packages\\sklearn\\utils\\validation.py:395: DeprecationWarning: Passing 1d arrays as data is deprecated in 0.17 and will raise ValueError in 0.19. Reshape your data either using X.reshape(-1, 1) if your data has a single feature or X.reshape(1, -1) if it contains a single sample.\n",
      "  DeprecationWarning)\n",
      "D:\\Anaconda\\envs\\py3\\lib\\site-packages\\sklearn\\utils\\validation.py:395: DeprecationWarning: Passing 1d arrays as data is deprecated in 0.17 and will raise ValueError in 0.19. Reshape your data either using X.reshape(-1, 1) if your data has a single feature or X.reshape(1, -1) if it contains a single sample.\n",
      "  DeprecationWarning)\n",
      "D:\\Anaconda\\envs\\py3\\lib\\site-packages\\sklearn\\utils\\validation.py:395: DeprecationWarning: Passing 1d arrays as data is deprecated in 0.17 and will raise ValueError in 0.19. Reshape your data either using X.reshape(-1, 1) if your data has a single feature or X.reshape(1, -1) if it contains a single sample.\n",
      "  DeprecationWarning)\n",
      "D:\\Anaconda\\envs\\py3\\lib\\site-packages\\sklearn\\utils\\validation.py:395: DeprecationWarning: Passing 1d arrays as data is deprecated in 0.17 and will raise ValueError in 0.19. Reshape your data either using X.reshape(-1, 1) if your data has a single feature or X.reshape(1, -1) if it contains a single sample.\n",
      "  DeprecationWarning)\n"
     ]
    },
    {
     "name": "stdout",
     "output_type": "stream",
     "text": [
      "[ 1937.91963855]\n",
      "[ 1299.34809243]\n",
      "[ 633.328274]\n",
      "[ 117.3991865]\n",
      "[ 570.24061191]\n",
      "[ 137.51936291]\n"
     ]
    },
    {
     "name": "stderr",
     "output_type": "stream",
     "text": [
      "D:\\Anaconda\\envs\\py3\\lib\\site-packages\\sklearn\\utils\\validation.py:395: DeprecationWarning: Passing 1d arrays as data is deprecated in 0.17 and will raise ValueError in 0.19. Reshape your data either using X.reshape(-1, 1) if your data has a single feature or X.reshape(1, -1) if it contains a single sample.\n",
      "  DeprecationWarning)\n",
      "D:\\Anaconda\\envs\\py3\\lib\\site-packages\\sklearn\\utils\\validation.py:395: DeprecationWarning: Passing 1d arrays as data is deprecated in 0.17 and will raise ValueError in 0.19. Reshape your data either using X.reshape(-1, 1) if your data has a single feature or X.reshape(1, -1) if it contains a single sample.\n",
      "  DeprecationWarning)\n",
      "D:\\Anaconda\\envs\\py3\\lib\\site-packages\\sklearn\\utils\\validation.py:395: DeprecationWarning: Passing 1d arrays as data is deprecated in 0.17 and will raise ValueError in 0.19. Reshape your data either using X.reshape(-1, 1) if your data has a single feature or X.reshape(1, -1) if it contains a single sample.\n",
      "  DeprecationWarning)\n"
     ]
    },
    {
     "name": "stdout",
     "output_type": "stream",
     "text": [
      "[ 373.0595887]\n",
      "[-2.82278346]\n",
      "[ 1655.54550636]\n"
     ]
    },
    {
     "name": "stderr",
     "output_type": "stream",
     "text": [
      "D:\\Anaconda\\envs\\py3\\lib\\site-packages\\sklearn\\utils\\validation.py:395: DeprecationWarning: Passing 1d arrays as data is deprecated in 0.17 and will raise ValueError in 0.19. Reshape your data either using X.reshape(-1, 1) if your data has a single feature or X.reshape(1, -1) if it contains a single sample.\n",
      "  DeprecationWarning)\n",
      "D:\\Anaconda\\envs\\py3\\lib\\site-packages\\sklearn\\utils\\validation.py:395: DeprecationWarning: Passing 1d arrays as data is deprecated in 0.17 and will raise ValueError in 0.19. Reshape your data either using X.reshape(-1, 1) if your data has a single feature or X.reshape(1, -1) if it contains a single sample.\n",
      "  DeprecationWarning)\n",
      "D:\\Anaconda\\envs\\py3\\lib\\site-packages\\sklearn\\utils\\validation.py:395: DeprecationWarning: Passing 1d arrays as data is deprecated in 0.17 and will raise ValueError in 0.19. Reshape your data either using X.reshape(-1, 1) if your data has a single feature or X.reshape(1, -1) if it contains a single sample.\n",
      "  DeprecationWarning)\n"
     ]
    },
    {
     "name": "stdout",
     "output_type": "stream",
     "text": [
      "[ 154.95883434]\n",
      "[ 429.65604095]\n",
      "[ 487.63439466]\n"
     ]
    },
    {
     "name": "stderr",
     "output_type": "stream",
     "text": [
      "D:\\Anaconda\\envs\\py3\\lib\\site-packages\\sklearn\\utils\\validation.py:395: DeprecationWarning: Passing 1d arrays as data is deprecated in 0.17 and will raise ValueError in 0.19. Reshape your data either using X.reshape(-1, 1) if your data has a single feature or X.reshape(1, -1) if it contains a single sample.\n",
      "  DeprecationWarning)\n",
      "D:\\Anaconda\\envs\\py3\\lib\\site-packages\\sklearn\\utils\\validation.py:395: DeprecationWarning: Passing 1d arrays as data is deprecated in 0.17 and will raise ValueError in 0.19. Reshape your data either using X.reshape(-1, 1) if your data has a single feature or X.reshape(1, -1) if it contains a single sample.\n",
      "  DeprecationWarning)\n",
      "D:\\Anaconda\\envs\\py3\\lib\\site-packages\\sklearn\\utils\\validation.py:395: DeprecationWarning: Passing 1d arrays as data is deprecated in 0.17 and will raise ValueError in 0.19. Reshape your data either using X.reshape(-1, 1) if your data has a single feature or X.reshape(1, -1) if it contains a single sample.\n",
      "  DeprecationWarning)\n"
     ]
    },
    {
     "name": "stdout",
     "output_type": "stream",
     "text": [
      "[ 479.9445214]\n",
      "[ 410.90229461]\n",
      "[ 2883.31074685]\n"
     ]
    },
    {
     "name": "stderr",
     "output_type": "stream",
     "text": [
      "D:\\Anaconda\\envs\\py3\\lib\\site-packages\\sklearn\\utils\\validation.py:395: DeprecationWarning: Passing 1d arrays as data is deprecated in 0.17 and will raise ValueError in 0.19. Reshape your data either using X.reshape(-1, 1) if your data has a single feature or X.reshape(1, -1) if it contains a single sample.\n",
      "  DeprecationWarning)\n",
      "D:\\Anaconda\\envs\\py3\\lib\\site-packages\\sklearn\\utils\\validation.py:395: DeprecationWarning: Passing 1d arrays as data is deprecated in 0.17 and will raise ValueError in 0.19. Reshape your data either using X.reshape(-1, 1) if your data has a single feature or X.reshape(1, -1) if it contains a single sample.\n",
      "  DeprecationWarning)\n"
     ]
    }
   ],
   "source": [
    "# random forest\n",
    "forest = RandomForestRegressor(n_estimators=2000, criterion='mse', max_depth=None, \n",
    "                               min_samples_split=2, min_samples_leaf=2, min_weight_fraction_leaf=0.0,\n",
    "                               max_features='auto', max_leaf_nodes=None, \n",
    "                               bootstrap=True, oob_score=False, n_jobs=1, random_state=None,\n",
    "                               verbose=0, warm_start=False)\n",
    "\n",
    "# Fit the training data to the training output and create the decision\n",
    "# trees\n",
    "forest = forest.fit(Train_data[:,:-1], Train_data[:,-1])\n",
    "\n",
    "# Take the same decision trees and run on the test data\n",
    "#output = forest.predict(train_feature[:,0:-1])\n",
    "for i in range(0,len(Test_data)):\n",
    "    output = forest.predict(Test_data[i][:-1])\n",
    "    print(output)"
   ]
  },
  {
   "cell_type": "code",
   "execution_count": 191,
   "metadata": {
    "collapsed": false
   },
   "outputs": [
    {
     "data": {
      "text/plain": [
       "array([  112.36,   197.36,   384.36,  1077.36])"
      ]
     },
     "execution_count": 191,
     "metadata": {},
     "output_type": "execute_result"
    }
   ],
   "source": [
    "test_feature"
   ]
  },
  {
   "cell_type": "code",
   "execution_count": 192,
   "metadata": {
    "collapsed": false
   },
   "outputs": [
    {
     "data": {
      "text/plain": [
       "array([ 1398.1755777])"
      ]
     },
     "execution_count": 192,
     "metadata": {},
     "output_type": "execute_result"
    }
   ],
   "source": [
    "output"
   ]
  },
  {
   "cell_type": "code",
   "execution_count": null,
   "metadata": {
    "collapsed": true
   },
   "outputs": [],
   "source": []
  },
  {
   "cell_type": "code",
   "execution_count": null,
   "metadata": {
    "collapsed": true
   },
   "outputs": [],
   "source": []
  },
  {
   "cell_type": "code",
   "execution_count": null,
   "metadata": {
    "collapsed": true
   },
   "outputs": [],
   "source": []
  }
 ],
 "metadata": {
  "anaconda-cloud": {},
  "kernelspec": {
   "display_name": "Python [default]",
   "language": "python",
   "name": "python3"
  },
  "language_info": {
   "codemirror_mode": {
    "name": "ipython",
    "version": 3
   },
   "file_extension": ".py",
   "mimetype": "text/x-python",
   "name": "python",
   "nbconvert_exporter": "python",
   "pygments_lexer": "ipython3",
   "version": "3.5.2"
  }
 },
 "nbformat": 4,
 "nbformat_minor": 2
}
