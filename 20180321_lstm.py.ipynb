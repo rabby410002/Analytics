{
 "cells": [
  {
   "cell_type": "code",
   "execution_count": null,
   "metadata": {
    "collapsed": false
   },
   "outputs": [],
   "source": [
    "# load and plot dataset\n",
    "from pandas import read_csv\n",
    "from pandas import datetime\n",
    "from matplotlib import pyplot\n",
    "from math import sqrt\n",
    "from sklearn.metrics import mean_squared_error\n",
    "# load dataset\n",
    "def parser(x):\n",
    "\treturn datetime.strptime('190'+x, '%Y-%m')\n",
    "series = read_csv('shampoo.csv', header=0, parse_dates=[0], index_col=0, squeeze=True, date_parser=parser)\n",
    "# summarize first few rows\n",
    "print(series.head())\n",
    "# line plot\n",
    "series.plot()\n",
    "pyplot.show()"
   ]
  },
  {
   "cell_type": "code",
   "execution_count": null,
   "metadata": {
    "collapsed": true
   },
   "outputs": [],
   "source": [
    "# split data into train and test\n",
    "X = series.values\n",
    "train, test = X[0:-12], X[-12:]"
   ]
  },
  {
   "cell_type": "code",
   "execution_count": null,
   "metadata": {
    "collapsed": false
   },
   "outputs": [],
   "source": [
    "# walk-forward validation\n",
    "history = [x for x in train]\n",
    "predictions = list()\n",
    "predictions = list()\n",
    "for i in range(len(test)):\n",
    "\t# make prediction\n",
    "\tpredictions.append(history[-1])\n",
    "\t# observation\n",
    "\thistory.append(test[i])\n",
    "# report performance\n",
    "rmse = sqrt(mean_squared_error(test, predictions))\n",
    "print('RMSE: %.3f' % rmse)\n",
    "# line plot of observed vs predicted\n",
    "pyplot.plot(test)\n",
    "pyplot.plot(predictions)\n",
    "pyplot.show()"
   ]
  },
  {
   "cell_type": "code",
   "execution_count": null,
   "metadata": {
    "collapsed": true
   },
   "outputs": [],
   "source": [
    "\n",
    "# frame a sequence as a supervised learning problem\n",
    "def timeseries_to_supervised(data, lag=1):\n",
    "\tdf = DataFrame(data)\n",
    "\tcolumns = [df.shift(i) for i in range(1, lag+1)]\n",
    "\tcolumns.append(df)\n",
    "\tdf = concat(columns, axis=1)\n",
    "\tdf.fillna(0, inplace=True)\n",
    "\treturn df"
   ]
  },
  {
   "cell_type": "code",
   "execution_count": null,
   "metadata": {
    "collapsed": true
   },
   "outputs": [],
   "source": [
    "from pandas import read_csv\n",
    "from pandas import datetime\n",
    "from pandas import DataFrame\n",
    "from pandas import concat\n",
    "\n",
    "# frame a sequence as a supervised learning problem\n",
    "def timeseries_to_supervised(data, lag=1):\n",
    "\tdf = DataFrame(data)\n",
    "\tcolumns = [df.shift(i) for i in range(1, lag+1)]\n",
    "\tcolumns.append(df)\n",
    "\tdf = concat(columns, axis=1)\n",
    "\tdf.fillna(0, inplace=True)\n",
    "\treturn df\n",
    "\n",
    "# load dataset\n",
    "def parser(x):\n",
    "\treturn datetime.strptime('190'+x, '%Y-%m')\n",
    "series = read_csv('shampoo-sales.csv', header=0, parse_dates=[0], index_col=0, squeeze=True, date_parser=parser)\n",
    "# transform to supervised learning\n",
    "X = series.values\n",
    "supervised = timeseries_to_supervised(X, 1)\n",
    "print(supervised.head())"
   ]
  },
  {
   "cell_type": "code",
   "execution_count": null,
   "metadata": {
    "collapsed": true
   },
   "outputs": [],
   "source": [
    "# create a differenced series\n",
    "def difference(dataset, interval=1):\n",
    "\tdiff = list()\n",
    "\tfor i in range(interval, len(dataset)):\n",
    "\t\tvalue = dataset[i] - dataset[i - interval]\n",
    "\t\tdiff.append(value)\n",
    "\treturn Series(diff)"
   ]
  },
  {
   "cell_type": "code",
   "execution_count": null,
   "metadata": {
    "collapsed": true
   },
   "outputs": [],
   "source": [
    "# invert differenced value\n",
    "def inverse_difference(history, yhat, interval=1):\n",
    "\treturn yhat + history[-interval]"
   ]
  },
  {
   "cell_type": "code",
   "execution_count": null,
   "metadata": {
    "collapsed": true
   },
   "outputs": [],
   "source": [
    "from pandas import read_csv\n",
    "from pandas import datetime\n",
    "from pandas import Series\n",
    " \n",
    "# create a differenced series\n",
    "def difference(dataset, interval=1):\n",
    "\tdiff = list()\n",
    "\tfor i in range(interval, len(dataset)):\n",
    "\t\tvalue = dataset[i] - dataset[i - interval]\n",
    "\t\tdiff.append(value)\n",
    "\treturn Series(diff)\n",
    " \n",
    "# invert differenced value\n",
    "def inverse_difference(history, yhat, interval=1):\n",
    "\treturn yhat + history[-interval]\n",
    " \n",
    "# load dataset\n",
    "def parser(x):\n",
    "\treturn datetime.strptime('190'+x, '%Y-%m')\n",
    "series = read_csv('shampoo-sales.csv', header=0, parse_dates=[0], index_col=0, squeeze=True, date_parser=parser)\n",
    "print(series.head())\n",
    "# transform to be stationary\n",
    "differenced = difference(series, 1)\n",
    "print(differenced.head())\n",
    "# invert transform\n",
    "inverted = list()\n",
    "for i in range(len(differenced)):\n",
    "\tvalue = inverse_difference(series, differenced[i], len(series)-i)\n",
    "\tinverted.append(value)\n",
    "inverted = Series(inverted)\n",
    "print(inverted.head())"
   ]
  },
  {
   "cell_type": "code",
   "execution_count": null,
   "metadata": {
    "collapsed": false
   },
   "outputs": [],
   "source": [
    "# transform scale\n",
    "from sklearn.preprocessing import MinMaxScaler\n",
    "X = series.values\n",
    "X = X.reshape(len(X), 1)\n",
    "scaler = MinMaxScaler(feature_range=(-1, 1))\n",
    "scaler = scaler.fit(X)\n",
    "scaled_X = scaler.transform(X)\n"
   ]
  },
  {
   "cell_type": "code",
   "execution_count": null,
   "metadata": {
    "collapsed": true
   },
   "outputs": [],
   "source": [
    "# invert transform\n",
    "inverted_X = scaler.inverse_transform(scaled_X)"
   ]
  },
  {
   "cell_type": "code",
   "execution_count": null,
   "metadata": {
    "collapsed": false
   },
   "outputs": [],
   "source": [
    "from pandas import read_csv\n",
    "from pandas import datetime\n",
    "from pandas import Series\n",
    "from sklearn.preprocessing import MinMaxScaler\n",
    "# load dataset\n",
    "def parser(x):\n",
    "\treturn datetime.strptime('190'+x, '%Y-%m')\n",
    "series = read_csv('shampoo.csv', header=0, parse_dates=[0], index_col=0, squeeze=True, date_parser=parser)\n",
    "print(series.head())\n",
    "# transform scale\n",
    "X = series.values\n",
    "X = X.reshape(len(X), 1)\n",
    "scaler = MinMaxScaler(feature_range=(-1, 1))\n",
    "scaler = scaler.fit(X)\n",
    "scaled_X = scaler.transform(X)\n",
    "scaled_series = Series(scaled_X[:, 0])\n",
    "print(scaled_series.head())\n",
    "# invert transform\n",
    "inverted_X = scaler.inverse_transform(scaled_X)\n",
    "inverted_series = Series(inverted_X[:, 0])\n",
    "print(inverted_series.head())"
   ]
  },
  {
   "cell_type": "code",
   "execution_count": 1,
   "metadata": {
    "collapsed": false,
    "scrolled": true
   },
   "outputs": [
    {
     "name": "stderr",
     "output_type": "stream",
     "text": [
      "Using TensorFlow backend.\n"
     ]
    }
   ],
   "source": [
    "from pandas import DataFrame\n",
    "from pandas import Series\n",
    "from pandas import concat\n",
    "from pandas import read_csv\n",
    "from pandas import datetime\n",
    "from sklearn.metrics import mean_squared_error\n",
    "from sklearn.preprocessing import MinMaxScaler\n",
    "from keras.models import Sequential\n",
    "from keras.layers import Dense\n",
    "from keras.layers import LSTM\n",
    "from math import sqrt\n",
    "from matplotlib import pyplot\n",
    "import numpy\n",
    "\n",
    "# date-time parsing function for loading the dataset\n",
    "def parser(x):\n",
    "\treturn datetime.strptime('190'+x, '%Y-%m')\n",
    "\n",
    "# frame a sequence as a supervised learning problem\n",
    "def timeseries_to_supervised(data, lag=1):\n",
    "\tdf = DataFrame(data)\n",
    "\tcolumns = [df.shift(i) for i in range(1, lag+1)]\n",
    "\tcolumns.append(df)\n",
    "\tdf = concat(columns, axis=1)\n",
    "\tdf.fillna(0, inplace=True)\n",
    "\treturn df\n",
    "\n",
    "# create a differenced series\n",
    "def difference(dataset, interval=1):\n",
    "\tdiff = list()\n",
    "\tfor i in range(interval, len(dataset)):\n",
    "\t\tvalue = dataset[i] - dataset[i - interval]\n",
    "\t\tdiff.append(value)\n",
    "\treturn Series(diff)\n",
    "\n",
    "# invert differenced value\n",
    "def inverse_difference(history, yhat, interval=1):\n",
    "\treturn yhat + history[-interval]\n",
    "\n",
    "# scale train and test data to [-1, 1]\n",
    "def scale(train, test):\n",
    "\t# fit scaler\n",
    "\tscaler = MinMaxScaler(feature_range=(-1, 1))\n",
    "\tscaler = scaler.fit(train)\n",
    "\t# transform train\n",
    "\ttrain = train.reshape(train.shape[0], train.shape[1])\n",
    "\ttrain_scaled = scaler.transform(train)\n",
    "\t# transform test\n",
    "\ttest = test.reshape(test.shape[0], test.shape[1])\n",
    "\ttest_scaled = scaler.transform(test)\n",
    "\treturn scaler, train_scaled, test_scaled\n",
    "\n",
    "# inverse scaling for a forecasted value\n",
    "def invert_scale(scaler, X, value):\n",
    "\tnew_row = [x for x in X] + [value]\n",
    "\tarray = numpy.array(new_row)\n",
    "\tarray = array.reshape(1, len(array))\n",
    "\tinverted = scaler.inverse_transform(array)\n",
    "\treturn inverted[0, -1]\n",
    "\n",
    "# fit an LSTM network to training data\n",
    "def fit_lstm(train, batch_size, nb_epoch, neurons):\n",
    "\tX, y = train[:, 0:-1], train[:, -1]\n",
    "\tX = X.reshape(X.shape[0], 1, X.shape[1])\n",
    "\tmodel = Sequential()\n",
    "\tmodel.add(LSTM(neurons, batch_input_shape=(batch_size, X.shape[1], X.shape[2]), stateful=True))\n",
    "\tmodel.add(Dense(1))\n",
    "\tmodel.compile(loss='mean_squared_error', optimizer='adam')\n",
    "\tfor i in range(nb_epoch):\n",
    "\t\tmodel.fit(X, y, epochs=1, batch_size=batch_size, verbose=0, shuffle=False)\n",
    "\t\tmodel.reset_states()\n",
    "\treturn model\n",
    "\n",
    "# make a one-step forecast\n",
    "def forecast_lstm(model, batch_size, X):\n",
    "\tX = X.reshape(1, 1, len(X))\n",
    "\tyhat = model.predict(X, batch_size=batch_size)\n",
    "\treturn yhat[0,0]\n",
    "\n"
   ]
  },
  {
   "cell_type": "code",
   "execution_count": 2,
   "metadata": {
    "collapsed": false,
    "scrolled": false
   },
   "outputs": [
    {
     "name": "stdout",
     "output_type": "stream",
     "text": [
      "[ 266.   145.9  183.1  119.3  180.3  168.5  231.8  224.5  192.8  122.9\n",
      "  336.5  185.9  194.3  149.5  210.1  273.3  191.4  287.   226.   303.6\n",
      "  289.9  421.6  264.5  342.3  339.7  440.4  315.9  439.3  401.3  437.4\n",
      "  575.5  407.6  682.   475.3  581.3  646.9] 0    -120.1\n",
      "1      37.2\n",
      "2     -63.8\n",
      "3      61.0\n",
      "4     -11.8\n",
      "5      63.3\n",
      "6      -7.3\n",
      "7     -31.7\n",
      "8     -69.9\n",
      "9     213.6\n",
      "10   -150.6\n",
      "11      8.4\n",
      "12    -44.8\n",
      "13     60.6\n",
      "14     63.2\n",
      "15    -81.9\n",
      "16     95.6\n",
      "17    -61.0\n",
      "18     77.6\n",
      "19    -13.7\n",
      "20    131.7\n",
      "21   -157.1\n",
      "22     77.8\n",
      "23     -2.6\n",
      "24    100.7\n",
      "25   -124.5\n",
      "26    123.4\n",
      "27    -38.0\n",
      "28     36.1\n",
      "29    138.1\n",
      "30   -167.9\n",
      "31    274.4\n",
      "32   -206.7\n",
      "33    106.0\n",
      "34     65.6\n",
      "dtype: float64\n",
      "[[   0.  -120.1]\n",
      " [-120.1   37.2]\n",
      " [  37.2  -63.8]\n",
      " [ -63.8   61. ]\n",
      " [  61.   -11.8]\n",
      " [ -11.8   63.3]\n",
      " [  63.3   -7.3]\n",
      " [  -7.3  -31.7]\n",
      " [ -31.7  -69.9]\n",
      " [ -69.9  213.6]\n",
      " [ 213.6 -150.6]\n",
      " [-150.6    8.4]\n",
      " [   8.4  -44.8]\n",
      " [ -44.8   60.6]\n",
      " [  60.6   63.2]\n",
      " [  63.2  -81.9]\n",
      " [ -81.9   95.6]\n",
      " [  95.6  -61. ]\n",
      " [ -61.    77.6]\n",
      " [  77.6  -13.7]\n",
      " [ -13.7  131.7]\n",
      " [ 131.7 -157.1]\n",
      " [-157.1   77.8]\n",
      " [  77.8   -2.6]\n",
      " [  -2.6  100.7]\n",
      " [ 100.7 -124.5]\n",
      " [-124.5  123.4]\n",
      " [ 123.4  -38. ]\n",
      " [ -38.    36.1]\n",
      " [  36.1  138.1]\n",
      " [ 138.1 -167.9]\n",
      " [-167.9  274.4]\n",
      " [ 274.4 -206.7]\n",
      " [-206.7  106. ]\n",
      " [ 106.    65.6]]\n",
      "train: [[   0.  -120.1]\n",
      " [-120.1   37.2]\n",
      " [  37.2  -63.8]\n",
      " [ -63.8   61. ]\n",
      " [  61.   -11.8]\n",
      " [ -11.8   63.3]\n",
      " [  63.3   -7.3]\n",
      " [  -7.3  -31.7]\n",
      " [ -31.7  -69.9]\n",
      " [ -69.9  213.6]\n",
      " [ 213.6 -150.6]\n",
      " [-150.6    8.4]\n",
      " [   8.4  -44.8]\n",
      " [ -44.8   60.6]\n",
      " [  60.6   63.2]\n",
      " [  63.2  -81.9]\n",
      " [ -81.9   95.6]\n",
      " [  95.6  -61. ]\n",
      " [ -61.    77.6]\n",
      " [  77.6  -13.7]\n",
      " [ -13.7  131.7]\n",
      " [ 131.7 -157.1]\n",
      " [-157.1   77.8]] test [[  77.8   -2.6]\n",
      " [  -2.6  100.7]\n",
      " [ 100.7 -124.5]\n",
      " [-124.5  123.4]\n",
      " [ 123.4  -38. ]\n",
      " [ -38.    36.1]\n",
      " [  36.1  138.1]\n",
      " [ 138.1 -167.9]\n",
      " [-167.9  274.4]\n",
      " [ 274.4 -206.7]\n",
      " [-206.7  106. ]\n",
      " [ 106.    65.6]]\n",
      "scaler MinMaxScaler(copy=True, feature_range=(-1, 1))\n",
      "train_scaled [[-0.15241435 -0.80037766]\n",
      " [-0.80037766  0.04828702]\n",
      " [ 0.04828702 -0.496628  ]\n",
      " [-0.496628    0.17669274]\n",
      " [ 0.17669274 -0.21607769]\n",
      " [-0.21607769  0.1891017 ]\n",
      " [ 0.1891017  -0.1917993 ]\n",
      " [-0.1917993  -0.32344214]\n",
      " [-0.32344214 -0.52953871]\n",
      " [-0.52953871  1.        ]\n",
      " [ 1.         -0.96493121]\n",
      " [-0.96493121 -0.10709469]\n",
      " [-0.10709469 -0.39411923]\n",
      " [-0.39411923  0.17453466]\n",
      " [ 0.17453466  0.18856218]\n",
      " [ 0.18856218 -0.59428109]\n",
      " [-0.59428109  0.3633666 ]\n",
      " [ 0.3633666  -0.48152145]\n",
      " [-0.48152145  0.26625303]\n",
      " [ 0.26625303 -0.22632857]\n",
      " [-0.22632857  0.55813326]\n",
      " [ 0.55813326 -1.        ]\n",
      " [-1.          0.26733207]]\n",
      "test_scaled [[ 0.26733207 -0.16644187]\n",
      " [-0.16644187  0.39088211]\n",
      " [ 0.39088211 -0.82411654]\n",
      " [-0.82411654  0.51335312]\n",
      " [ 0.51335312 -0.35743189]\n",
      " [-0.35743189  0.04235231]\n",
      " [ 0.04235231  0.59266253]\n",
      " [ 0.59266253 -1.05826814]\n",
      " [-1.05826814  1.32802806]\n",
      " [ 1.32802806 -1.26760183]\n",
      " [-1.26760183  0.41947667]\n",
      " [ 0.41947667  0.20151066]]\n"
     ]
    }
   ],
   "source": [
    "# load dataset\n",
    "series = read_csv('shampoo.csv', header=0, parse_dates=[0], index_col=0, squeeze=True, date_parser=parser)\n",
    "\n",
    "# transform data to be stationary\n",
    "raw_values = series.values\n",
    "diff_values = difference(raw_values, 1)\n",
    "print(raw_values,diff_values)\n",
    "\n",
    "# transform data to be supervised learning\n",
    "supervised = timeseries_to_supervised(diff_values, 1)\n",
    "supervised_values = supervised.values\n",
    "print(supervised_values)\n",
    "# split data into train and test-sets\n",
    "train, test = supervised_values[0:-12], supervised_values[-12:]\n",
    "print('train:',train,'test',test)\n",
    "# transform the scale of the data\n",
    "scaler, train_scaled, test_scaled = scale(train, test)\n",
    "print('scaler',scaler)\n",
    "print('train_scaled',train_scaled)\n",
    "print('test_scaled',test_scaled)\n"
   ]
  },
  {
   "cell_type": "code",
   "execution_count": null,
   "metadata": {
    "collapsed": false
   },
   "outputs": [],
   "source": [
    "#! python \"import keras; print (keras.__version__)\""
   ]
  },
  {
   "cell_type": "code",
   "execution_count": 3,
   "metadata": {
    "collapsed": false
   },
   "outputs": [
    {
     "name": "stdout",
     "output_type": "stream",
     "text": [
      "Month=1, Predicted=304.828014, Expected=339.700000\n",
      "Month=2, Predicted=375.229349, Expected=440.400000\n",
      "Month=3, Predicted=363.798069, Expected=315.900000\n",
      "Month=4, Predicted=392.455624, Expected=439.300000\n",
      "Month=5, Predicted=350.831005, Expected=401.300000\n",
      "Month=6, Predicted=460.877647, Expected=437.400000\n",
      "Month=7, Predicted=401.313873, Expected=575.500000\n",
      "Month=8, Predicted=436.110778, Expected=407.600000\n",
      "Month=9, Predicted=487.986565, Expected=682.000000\n",
      "Month=10, Predicted=503.928575, Expected=475.300000\n",
      "Month=11, Predicted=529.615849, Expected=581.300000\n",
      "Month=12, Predicted=473.906613, Expected=646.900000\n",
      "Test RMSE: 98.006\n"
     ]
    },
    {
     "data": {
      "image/png": "[encoded data removed]",
      "text/plain": [
       "<matplotlib.figure.Figure at 0xee10668>"
      ]
     },
     "metadata": {},
     "output_type": "display_data"
    }
   ],
   "source": [
    "# fit the model\n",
    "lstm_model = fit_lstm(train_scaled, 1, 3000, 4)\n",
    "# forecast the entire training dataset to build up state for forecasting\n",
    "train_reshaped = train_scaled[:, 0].reshape(len(train_scaled), 1, 1)\n",
    "lstm_model.predict(train_reshaped, batch_size=1)\n",
    "\n",
    "# walk-forward validation on the test data\n",
    "predictions = list()\n",
    "for i in range(len(test_scaled)):\n",
    "    # make one-step forecast\n",
    "    X, y = test_scaled[i, 0:-1], test_scaled[i, -1]\n",
    "    yhat = forecast_lstm(lstm_model, 1, X)\n",
    "    # invert scaling\n",
    "    yhat = invert_scale(scaler, X, yhat)\n",
    "    # invert differencing\n",
    "    yhat = inverse_difference(raw_values, yhat, len(test_scaled)+1-i)\n",
    "    # store forecast\n",
    "    predictions.append(yhat)\n",
    "    expected = raw_values[len(train) + i + 1]\n",
    "    print('Month=%d, Predicted=%f, Expected=%f' % (i+1, yhat, expected))\n",
    "\n",
    "# report performance\n",
    "rmse = sqrt(mean_squared_error(raw_values[-12:], predictions))\n",
    "print('Test RMSE: %.3f' % rmse)\n",
    "# line plot of observed vs predicted\n",
    "pyplot.plot(raw_values[-12:])\n",
    "pyplot.plot(predictions)\n",
    "pyplot.show()"
   ]
  },
  {
   "cell_type": "code",
   "execution_count": null,
   "metadata": {
    "collapsed": true
   },
   "outputs": [],
   "source": []
  }
 ],
 "metadata": {
  "anaconda-cloud": {},
  "kernelspec": {
   "display_name": "Python [default]",
   "language": "python",
   "name": "python3"
  },
  "language_info": {
   "codemirror_mode": {
    "name": "ipython",
    "version": 3
   },
   "file_extension": ".py",
   "mimetype": "text/x-python",
   "name": "python",
   "nbconvert_exporter": "python",
   "pygments_lexer": "ipython3",
   "version": "3.5.2"
  }
 },
 "nbformat": 4,
 "nbformat_minor": 2
}
